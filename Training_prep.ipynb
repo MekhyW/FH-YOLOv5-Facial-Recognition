{
 "cells": [
  {
   "cell_type": "code",
   "execution_count": 92,
   "metadata": {},
   "outputs": [],
   "source": [
    "import os \n",
    "import random\n",
    "from sklearn.model_selection import train_test_split\n",
    "\n",
    "random.seed(108)"
   ]
  },
  {
   "cell_type": "code",
   "execution_count": 95,
   "metadata": {},
   "outputs": [],
   "source": [
    "# Read images and annotations\n",
    "images = os.listdir('Fursuit') + os.listdir('Human')\n",
    "annotations = os.listdir('annotations')\n",
    "\n",
    "images.sort()\n",
    "annotations.sort()"
   ]
  },
  {
   "cell_type": "code",
   "execution_count": 98,
   "metadata": {},
   "outputs": [
    {
     "name": "stdout",
     "output_type": "stream",
     "text": [
      "10311\n"
     ]
    }
   ],
   "source": [
    "pairs = []\n",
    "for i in range(len(images)):\n",
    "    image_name = images[i].replace('.jpg', '').replace('.png', '')\n",
    "    for j in range(len(annotations)):\n",
    "        annotation_name = annotations[j].replace('.txt', '')\n",
    "        if image_name == annotation_name:\n",
    "            pairs.append((images[i], annotations[j]))\n",
    "            break\n",
    "print(len(pairs))"
   ]
  },
  {
   "cell_type": "code",
   "execution_count": 102,
   "metadata": {},
   "outputs": [],
   "source": [
    "images = []\n",
    "annotations = []\n",
    "for i in range(len(pairs)):\n",
    "    images.append(pairs[i][0])\n",
    "    annotations.append(pairs[i][1])"
   ]
  },
  {
   "cell_type": "code",
   "execution_count": 103,
   "metadata": {},
   "outputs": [],
   "source": [
    "# Split the dataset into train-valid-test splits \n",
    "train_images, val_images, train_annotations, val_annotations = train_test_split(images, annotations, test_size = 0.2, random_state = 1)\n",
    "val_images, test_images, val_annotations, test_annotations = train_test_split(val_images, val_annotations, test_size = 0.5, random_state = 1)"
   ]
  },
  {
   "cell_type": "code",
   "execution_count": 106,
   "metadata": {},
   "outputs": [
    {
     "name": "stderr",
     "output_type": "stream",
     "text": [
      "A sintaxe do comando est� incorreta.\n"
     ]
    }
   ],
   "source": [
    "! mkdir images/train images/val images/test annotations/train annotations/val annotations/test"
   ]
  },
  {
   "cell_type": "code",
   "execution_count": null,
   "metadata": {},
   "outputs": [],
   "source": [
    "for image in train_images:\n",
    "    try:\n",
    "        os.replace('Fursuit/' + image, 'images/train/' + image)\n",
    "    except:\n",
    "        os.replace('Human/' + image, 'images/train/' + image)"
   ]
  },
  {
   "cell_type": "code",
   "execution_count": 110,
   "metadata": {},
   "outputs": [],
   "source": [
    "for annotation in train_annotations:\n",
    "    try:\n",
    "        os.replace('annotations/' + annotation, 'annotations/train/' + annotation)\n",
    "    except:\n",
    "        pass"
   ]
  },
  {
   "cell_type": "code",
   "execution_count": 111,
   "metadata": {},
   "outputs": [],
   "source": [
    "for image in val_images:\n",
    "    try:\n",
    "        os.replace('Fursuit/' + image, 'images/val/' + image)\n",
    "    except:\n",
    "        os.replace('Human/' + image, 'images/val/' + image)"
   ]
  },
  {
   "cell_type": "code",
   "execution_count": 112,
   "metadata": {},
   "outputs": [],
   "source": [
    "for annotation in val_annotations:\n",
    "    try:\n",
    "        os.replace('annotations/' + annotation, 'annotations/val/' + annotation)\n",
    "    except:\n",
    "        pass"
   ]
  },
  {
   "cell_type": "code",
   "execution_count": 113,
   "metadata": {},
   "outputs": [],
   "source": [
    "for image in test_images:\n",
    "    try:\n",
    "        os.replace('Fursuit/' + image, 'images/test/' + image)\n",
    "    except:\n",
    "        os.replace('Human/' + image, 'images/test/' + image)"
   ]
  },
  {
   "cell_type": "code",
   "execution_count": 114,
   "metadata": {},
   "outputs": [],
   "source": [
    "for annotation in test_annotations:\n",
    "    try:\n",
    "        os.replace('annotations/' + annotation, 'annotations/test/' + annotation)\n",
    "    except:\n",
    "        pass"
   ]
  },
  {
   "cell_type": "code",
   "execution_count": 116,
   "metadata": {},
   "outputs": [
    {
     "name": "stdout",
     "output_type": "stream",
     "text": [
      "8248 8245\n",
      "1031 1030\n",
      "1032 1030\n"
     ]
    }
   ],
   "source": [
    "print(len(os.listdir('images/train')), len(os.listdir('annotations/train')))\n",
    "print(len(os.listdir('images/val')), len(os.listdir('annotations/val')))\n",
    "print(len(os.listdir('images/test')), len(os.listdir('annotations/test')))"
   ]
  },
  {
   "cell_type": "code",
   "execution_count": 117,
   "metadata": {},
   "outputs": [],
   "source": [
    "os.rename('annotations', 'labels')"
   ]
  }
 ],
 "metadata": {
  "kernelspec": {
   "display_name": "Python 3.7.8 64-bit",
   "language": "python",
   "name": "python3"
  },
  "language_info": {
   "codemirror_mode": {
    "name": "ipython",
    "version": 3
   },
   "file_extension": ".py",
   "mimetype": "text/x-python",
   "name": "python",
   "nbconvert_exporter": "python",
   "pygments_lexer": "ipython3",
   "version": "3.7.8"
  },
  "orig_nbformat": 4,
  "vscode": {
   "interpreter": {
    "hash": "a683cbd5c0809e735f55df6499ab43551e40760006a7f9c1ea1c896d55bb3694"
   }
  }
 },
 "nbformat": 4,
 "nbformat_minor": 2
}
